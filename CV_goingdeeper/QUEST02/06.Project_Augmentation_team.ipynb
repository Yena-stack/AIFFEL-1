{
 "cells": [
  {
   "cell_type": "markdown",
   "id": "2d49ffe5",
   "metadata": {},
   "source": [
    "# 프로젝트: CutMix 또는 Mixup 비교실험 하기\n",
    "---\n",
    "## 1. Augmentation을 적용한 데이터셋 만들기\n",
    "---\n",
    "데이터셋에 CutMix 또는 Mixup augmentation을 적용  \n",
    "\n",
    "### 데이터 준비"
   ]
  },
  {
   "cell_type": "code",
   "execution_count": 8,
   "id": "1dfe1b6e",
   "metadata": {},
   "outputs": [],
   "source": [
    "# TensorFlow and tf.keras\n",
    "import tensorflow as tf\n",
    "from tensorflow import keras\n",
    "\n",
    "# Helper libraries\n",
    "import numpy as np\n",
    "import matplotlib.pyplot as plt\n",
    "\n",
    "import tensorflow_datasets as tfds\n",
    "\n",
    "(ds_train, ds_test), ds_info = tfds.load(\n",
    "    'stanford_dogs',\n",
    "    split=['train', 'test'],\n",
    "    as_supervised=True,\n",
    "    shuffle_files=True,\n",
    "    with_info=True,\n",
    ")"
   ]
  },
  {
   "cell_type": "code",
   "execution_count": 9,
   "id": "0f50df8e",
   "metadata": {},
   "outputs": [
    {
     "name": "stdout",
     "output_type": "stream",
     "text": [
      "train: 12000\n",
      "test: 8580\n"
     ]
    }
   ],
   "source": [
    "print('train:', len(ds_train))\n",
    "print('test:', len(ds_test))"
   ]
  },
  {
   "cell_type": "markdown",
   "id": "f4fd0e48",
   "metadata": {},
   "source": [
    "#### 전처리 함수"
   ]
  },
  {
   "cell_type": "code",
   "execution_count": null,
   "id": "40a88e6a",
   "metadata": {},
   "outputs": [],
   "source": [
    "def normalize_and_resize_img(image, label):\n",
    "    # Normalizes images: `uint8` -> `float32`\n",
    "    image = tf.image.resize(image, [224, 224])\n",
    "    return tf.cast(image, tf.float32) / 255., label\n",
    "\n",
    "# --------------------------------------------------------\n",
    "# augmentation\n",
    "# --------------------------------------------------------\n",
    "def augment(image, label):\n",
    "    image = tf.image.random_flip_left_right(image)\n",
    "    image = tf.image.random_flip_up_down(image)\n",
    "    image = tf.image.random_brightness(image, max_delta=0.2)\n",
    "    image = tf.clip_by_value(image, 0, 1)\n",
    "    return image, label\n",
    "\n",
    "# --------------------------------------------------------\n",
    "# Cutmix\n",
    "# --------------------------------------------------------\n",
    "def get_clip_box(image_a, image_b):\n",
    "    # image.shape = (height, width, channel)\n",
    "    image_size_x = image_a.shape[1]\n",
    "    image_size_y = image_a.shape[0]\n",
    "    \n",
    "    # get center of box\n",
    "    x = tf.cast(tf.random.uniform([], 0, image_size_x), tf.int32)\n",
    "    y = tf.cast(tf.random.uniform([], 0, image_size_y), tf.int32)\n",
    "\n",
    "    # get width, height of box\n",
    "    width = tf.cast(image_size_x*tf.math.sqrt(1-tf.random.uniform([], 0, 1)), tf.int32)\n",
    "    height = tf.cast(image_size_y*tf.math.sqrt(1-tf.random.uniform([], 0, 1)), tf.int32)\n",
    "    \n",
    "    # clip box in image and get minmax bbox\n",
    "    x_min = tf.math.maximum(0, x-width//2)\n",
    "    y_min = tf.math.maximum(0, y-height//2)\n",
    "    x_max = tf.math.minimum(image_size_x, x+width//2)\n",
    "    y_max = tf.math.minimum(image_size_y, y+height//2)\n",
    "    \n",
    "    return x_min, y_min, x_max, y_max\n",
    "\n",
    "def mix_2_images(image_a, image_b, x_min, y_min, x_max, y_max):\n",
    "    image_size_x = image_a.shape[1]\n",
    "    image_size_y = image_a.shape[0] \n",
    "    middle_left = image_a[y_min:y_max, 0:x_min, :] # image_b의 왼쪽 바깥 영역\n",
    "    middle_center = image_b[y_min:y_max, x_min:x_max, :]  # image_b의 안쪽 영역\n",
    "    middle_right = image_a[y_min:y_max, x_max:image_size_x, :] # image_b의 오른쪽 바깥 영역\n",
    "    middle = tf.concat([middle_left,middle_center,middle_right], axis=1)\n",
    "    top = image_a[0:y_min, :, :]\n",
    "    bottom = image_a[y_max:image_size_y, :, :]\n",
    "    mixed_img = tf.concat([top, middle, bottom],axis=0)\n",
    "    \n",
    "    return mixed_img\n",
    "\n",
    "def mix_2_labels(label_a, label_b, x_min, y_min, x_max, y_max, img_size=224, num_classes=120):\n",
    "    image_size_x = img_size\n",
    "    image_size_y = img_size\n",
    "    mixed_area = (x_max-x_min)*(y_max-y_min)\n",
    "    total_area = image_size_x*image_size_y\n",
    "    ratio = tf.cast(mixed_area/total_area, tf.float32)\n",
    "\n",
    "    if len(label_a.shape)==0:\n",
    "        label_a = tf.one_hot(label_a, num_classes)\n",
    "    if len(label_b.shape)==0:\n",
    "        label_b = tf.one_hot(label_b, num_classes)\n",
    "    mixed_label = (1-ratio)*label_a + ratio*label_b\n",
    "    return mixed_label\n",
    "\n",
    "def cutmix(image, label, prob=1.0, batch_size=16, img_size=224, num_classes=120):\n",
    "    mixed_imgs = []\n",
    "    mixed_labels = []\n",
    "\n",
    "    for i in range(batch_size):\n",
    "        image_a = image[i]\n",
    "        label_a = label[i]\n",
    "        j = tf.cast(tf.random.uniform([],0, batch_size),tf.int32)\n",
    "        image_b = image[j]\n",
    "        label_b = label[j]\n",
    "        x_min, y_min, x_max, y_max = get_clip_box(image_a, image_b)\n",
    "        mixed_imgs.append(mix_2_images(image_a, image_b, x_min, y_min, x_max, y_max))\n",
    "        mixed_labels.append(mix_2_labels(label_a, label_b, x_min, y_min, x_max, y_max))\n",
    "\n",
    "    mixed_imgs = tf.reshape(tf.stack(mixed_imgs), (batch_size, img_size, img_size, 3))\n",
    "    mixed_labels = tf.reshape(tf.stack(mixed_labels), (batch_size, num_classes))\n",
    "    return mixed_imgs, mixed_labels\n",
    "# --------------------------------------------------------\n",
    "# Mixup\n",
    "# --------------------------------------------------------\n",
    "def mixup_2_images(image_a, image_b, label_a, label_b, num_classes=120):\n",
    "    ratio = tf.random.uniform([], 0, 1)\n",
    "    \n",
    "    if len(label_a.shape)==0:\n",
    "        label_a = tf.one_hot(label_a, num_classes)\n",
    "    if len(label_b.shape)==0:\n",
    "        label_b = tf.one_hot(label_b, num_classes)\n",
    "    mixed_image= (1-ratio)*image_a + ratio*image_b\n",
    "    mixed_label = (1-ratio)*label_a + ratio*label_b\n",
    "    \n",
    "    return mixed_image, mixed_label\n",
    "\n",
    "def mixup(image, label, prob=1.0, batch_size=16, img_size=224, num_classes=120):\n",
    "    mixed_imgs = []\n",
    "    mixed_labels = []\n",
    "\n",
    "    for i in range(batch_size):\n",
    "        image_a = image[i]\n",
    "        label_a = label[i]\n",
    "        j = tf.cast(tf.random.uniform([],0,batch_size), tf.int32)\n",
    "        image_b = image[j]\n",
    "        label_b = label[j]\n",
    "        mixed_img, mixed_label = mixup_2_images(image_a, image_b, label_a, label_b)\n",
    "        mixed_imgs.append(mixed_img)\n",
    "        mixed_labels.append(mixed_label)\n",
    "\n",
    "    mixed_imgs = tf.reshape(tf.stack(mixed_imgs), (batch_size, img_size, img_size, 3))\n",
    "    mixed_labels = tf.reshape(tf.stack(mixed_labels), (batch_size, num_classes))\n",
    "    return mixed_imgs, mixed_labels\n",
    "\n",
    "# --------------------------------------------------------\n",
    "# 데이터 가공 함수\n",
    "# --------------------------------------------------------\n",
    "def onehot(image, label, num_classes=120):\n",
    "    label = tf.one_hot(label, num_classes)\n",
    "    return image, label\n",
    "\n",
    "def apply_normalize_on_dataset(ds, is_test=False, batch_size=16, with_aug=False, with_cutmix=False, with_mixup=False):\n",
    "    ds = ds.map(\n",
    "        normalize_and_resize_img, \n",
    "        num_parallel_calls=2\n",
    "    )\n",
    "    if not is_test and with_aug:\n",
    "        ds = ds.map(\n",
    "            augment\n",
    "        )\n",
    "    # CutMix는 배치 안에 있는 이미지끼리만 섞는 과정이기 때문에 배치 단위로 데이터셋을 정렬 후 CutMix 적용\n",
    "    ds = ds.batch(batch_size)\n",
    "    if not is_test and (with_cutmix or with_mixup):\n",
    "        if with_cutmix:            \n",
    "            ds = ds.map(\n",
    "                cutmix,\n",
    "                num_parallel_calls=2\n",
    "            )\n",
    "            \n",
    "        if with_mixup:            \n",
    "            ds = ds.map(\n",
    "                mixup,\n",
    "                num_parallel_calls=2\n",
    "            )    \n",
    "    else:\n",
    "        ds = ds.map(\n",
    "            onehot,\n",
    "            num_parallel_calls=2\n",
    "        )\n",
    "            \n",
    "    if not is_test:\n",
    "        ds = ds.repeat()\n",
    "        ds = ds.shuffle(200)\n",
    "    ds = ds.prefetch(tf.data.experimental.AUTOTUNE)\n",
    "    return ds"
   ]
  },
  {
   "cell_type": "code",
   "execution_count": null,
   "id": "e71b1151",
   "metadata": {},
   "outputs": [],
   "source": [
    "ds_train_no_aug = apply_normalize_on_dataset(ds_train) # No Augmentation\n",
    "ds_train_aug = apply_normalize_on_dataset(ds_train, with_aug = True) # 기본 Augmentation\n",
    "ds_train_aug_cutmix = apply_normalize_on_dataset(ds_train, with_aug = True, with_cutmix=True) # 기본 Augmentation + cutmix\n",
    "ds_train_aug_mixup = apply_normalize_on_dataset(ds_train, with_aug = True, with_mixup=True) # 기본 Augmentation + mixup\n",
    "\n",
    "ds_val = apply_normalize_on_dataset(ds_test, is_test=True)"
   ]
  },
  {
   "cell_type": "markdown",
   "id": "e65e05c0",
   "metadata": {},
   "source": [
    "---\n",
    "## 2. 모델 만들기\n",
    "---\n",
    "ResNet-50 사용"
   ]
  },
  {
   "cell_type": "code",
   "execution_count": 12,
   "id": "cdbb81bb",
   "metadata": {},
   "outputs": [],
   "source": [
    "def get_resnet50(num_classes=120):\n",
    "    return keras.models.Sequential([\n",
    "        keras.applications.resnet.ResNet50(\n",
    "            include_top=False,\n",
    "            weights='imagenet',\n",
    "            input_shape=(224,224,3),\n",
    "            pooling='avg',\n",
    "        ),\n",
    "        keras.layers.Dense(num_classes, activation='softmax')\n",
    "    ])"
   ]
  },
  {
   "cell_type": "markdown",
   "id": "6ac2d632",
   "metadata": {},
   "source": [
    "---\n",
    "## 3. 모델 훈련하기\n",
    "---\n",
    "**손실함수 categorical_crossentropy** 사용  \n",
    "cutmix(), mixup()을 구현하면서 label의 mix 때문에 더이상 label이 스칼라값을 가지지 못하고 One-Hot 벡터 형태로 변환되었기 때문\n",
    "\n",
    "### 모델 훈련 함수"
   ]
  },
  {
   "cell_type": "code",
   "execution_count": 13,
   "id": "0bcfcac5",
   "metadata": {},
   "outputs": [],
   "source": [
    "def compile_and_fit(train_data, val_data, epochs=15, model=None):\n",
    "    if model is None:\n",
    "        model = get_resnet50()\n",
    "    model.compile(\n",
    "        loss='categorical_crossentropy',\n",
    "        optimizer=tf.keras.optimizers.SGD(learning_rate=0.01),\n",
    "        metrics=['accuracy'],\n",
    "    )\n",
    "\n",
    "    return model, model.fit(\n",
    "        train_data, \n",
    "        steps_per_epoch=int(ds_info.splits['train'].num_examples/16),\n",
    "        validation_steps=int(ds_info.splits['test'].num_examples/16),\n",
    "        epochs=epochs,\n",
    "        validation_data=val_data,\n",
    "        verbose=1,\n",
    "        use_multiprocessing=True,\n",
    "    )"
   ]
  },
  {
   "cell_type": "markdown",
   "id": "8ce6643e",
   "metadata": {},
   "source": [
    "#### No Augmentation 모델 훈련"
   ]
  },
  {
   "cell_type": "code",
   "execution_count": 14,
   "id": "a904cb5e",
   "metadata": {},
   "outputs": [
    {
     "name": "stdout",
     "output_type": "stream",
     "text": [
      "Epoch 1/15\n",
      "750/750 [==============================] - 172s 210ms/step - loss: 2.1920 - accuracy: 0.4496 - val_loss: 3.2843 - val_accuracy: 0.2112\n",
      "Epoch 2/15\n",
      "750/750 [==============================] - 157s 210ms/step - loss: 0.7677 - accuracy: 0.7803 - val_loss: 1.1321 - val_accuracy: 0.6686\n",
      "Epoch 3/15\n",
      "750/750 [==============================] - 157s 209ms/step - loss: 0.2395 - accuracy: 0.9505 - val_loss: 0.9240 - val_accuracy: 0.7297\n",
      "Epoch 4/15\n",
      "750/750 [==============================] - 157s 210ms/step - loss: 0.0671 - accuracy: 0.9942 - val_loss: 0.8845 - val_accuracy: 0.7493\n",
      "Epoch 5/15\n",
      "750/750 [==============================] - 156s 209ms/step - loss: 0.0284 - accuracy: 0.9990 - val_loss: 0.8927 - val_accuracy: 0.7488\n",
      "Epoch 6/15\n",
      "750/750 [==============================] - 156s 209ms/step - loss: 0.0188 - accuracy: 0.9992 - val_loss: 0.9284 - val_accuracy: 0.7465\n",
      "Epoch 7/15\n",
      "750/750 [==============================] - 157s 209ms/step - loss: 0.0123 - accuracy: 0.9998 - val_loss: 0.9231 - val_accuracy: 0.7491\n",
      "Epoch 8/15\n",
      "750/750 [==============================] - 157s 209ms/step - loss: 0.0101 - accuracy: 0.9999 - val_loss: 0.9231 - val_accuracy: 0.7508\n",
      "Epoch 9/15\n",
      "750/750 [==============================] - 157s 209ms/step - loss: 0.0079 - accuracy: 1.0000 - val_loss: 0.9310 - val_accuracy: 0.7522\n",
      "Epoch 10/15\n",
      "750/750 [==============================] - 157s 209ms/step - loss: 0.0074 - accuracy: 0.9996 - val_loss: 0.9437 - val_accuracy: 0.7484\n",
      "Epoch 11/15\n",
      "750/750 [==============================] - 156s 209ms/step - loss: 0.0064 - accuracy: 0.9998 - val_loss: 0.9592 - val_accuracy: 0.7477\n",
      "Epoch 12/15\n",
      "750/750 [==============================] - 157s 209ms/step - loss: 0.0055 - accuracy: 0.9998 - val_loss: 0.9601 - val_accuracy: 0.7476\n",
      "Epoch 13/15\n",
      "750/750 [==============================] - 157s 209ms/step - loss: 0.0054 - accuracy: 0.9998 - val_loss: 0.9685 - val_accuracy: 0.7477\n",
      "Epoch 14/15\n",
      "750/750 [==============================] - 156s 209ms/step - loss: 0.0042 - accuracy: 1.0000 - val_loss: 0.9654 - val_accuracy: 0.7484\n",
      "Epoch 15/15\n",
      "750/750 [==============================] - 157s 209ms/step - loss: 0.0041 - accuracy: 1.0000 - val_loss: 0.9721 - val_accuracy: 0.7526\n"
     ]
    }
   ],
   "source": [
    "resnet50_no_aug, history_no_aug = compile_and_fit(ds_train_no_aug, ds_val)"
   ]
  },
  {
   "cell_type": "markdown",
   "id": "9c5bded2",
   "metadata": {},
   "source": [
    "#### 기본 Augmentation 모델 훈련"
   ]
  },
  {
   "cell_type": "code",
   "execution_count": 15,
   "id": "3a721081",
   "metadata": {},
   "outputs": [
    {
     "name": "stdout",
     "output_type": "stream",
     "text": [
      "Epoch 1/15\n",
      "750/750 [==============================] - 165s 210ms/step - loss: 2.8665 - accuracy: 0.3022 - val_loss: 3.5476 - val_accuracy: 0.1764\n",
      "Epoch 2/15\n",
      "750/750 [==============================] - 261s 348ms/step - loss: 1.5642 - accuracy: 0.5608 - val_loss: 2.1958 - val_accuracy: 0.4391\n",
      "Epoch 3/15\n",
      "750/750 [==============================] - 319s 425ms/step - loss: 1.0998 - accuracy: 0.6841 - val_loss: 1.4260 - val_accuracy: 0.5925\n",
      "Epoch 4/15\n",
      "750/750 [==============================] - 210s 279ms/step - loss: 0.7950 - accuracy: 0.7718 - val_loss: 1.5626 - val_accuracy: 0.5641\n",
      "Epoch 5/15\n",
      "750/750 [==============================] - 156s 208ms/step - loss: 0.5674 - accuracy: 0.8428 - val_loss: 1.7562 - val_accuracy: 0.5396\n",
      "Epoch 6/15\n",
      "750/750 [==============================] - 156s 208ms/step - loss: 0.4168 - accuracy: 0.8859 - val_loss: 1.2382 - val_accuracy: 0.6491\n",
      "Epoch 7/15\n",
      "750/750 [==============================] - 156s 209ms/step - loss: 0.3132 - accuracy: 0.9208 - val_loss: 1.3602 - val_accuracy: 0.6356\n",
      "Epoch 8/15\n",
      "750/750 [==============================] - 156s 209ms/step - loss: 0.2181 - accuracy: 0.9492 - val_loss: 1.6790 - val_accuracy: 0.5759\n",
      "Epoch 9/15\n",
      "750/750 [==============================] - 156s 209ms/step - loss: 0.1660 - accuracy: 0.9610 - val_loss: 1.1993 - val_accuracy: 0.6765\n",
      "Epoch 10/15\n",
      "750/750 [==============================] - 157s 209ms/step - loss: 0.1206 - accuracy: 0.9757 - val_loss: 1.1737 - val_accuracy: 0.6861\n",
      "Epoch 11/15\n",
      "750/750 [==============================] - 157s 209ms/step - loss: 0.0936 - accuracy: 0.9816 - val_loss: 1.4292 - val_accuracy: 0.6332\n",
      "Epoch 12/15\n",
      "750/750 [==============================] - 157s 209ms/step - loss: 0.0696 - accuracy: 0.9882 - val_loss: 1.1353 - val_accuracy: 0.7041\n",
      "Epoch 13/15\n",
      "750/750 [==============================] - 157s 209ms/step - loss: 0.0545 - accuracy: 0.9921 - val_loss: 1.1573 - val_accuracy: 0.7069\n",
      "Epoch 14/15\n",
      "750/750 [==============================] - 157s 209ms/step - loss: 0.0421 - accuracy: 0.9947 - val_loss: 1.2175 - val_accuracy: 0.6929\n",
      "Epoch 15/15\n",
      "750/750 [==============================] - 157s 209ms/step - loss: 0.0330 - accuracy: 0.9962 - val_loss: 1.1910 - val_accuracy: 0.6996\n"
     ]
    }
   ],
   "source": [
    "resnet50_aug, history_aug = compile_and_fit(ds_train_aug, ds_val)"
   ]
  },
  {
   "cell_type": "markdown",
   "id": "f7a4c813",
   "metadata": {},
   "source": [
    "#### 기본 + CutMix Augmentation 모델 훈련"
   ]
  },
  {
   "cell_type": "code",
   "execution_count": 16,
   "id": "6bb3ea80",
   "metadata": {},
   "outputs": [
    {
     "name": "stdout",
     "output_type": "stream",
     "text": [
      "Epoch 1/15\n",
      "750/750 [==============================] - 167s 212ms/step - loss: 4.1365 - accuracy: 0.1311 - val_loss: 3.6511 - val_accuracy: 0.1739\n",
      "Epoch 2/15\n",
      "750/750 [==============================] - 158s 210ms/step - loss: 3.3875 - accuracy: 0.2945 - val_loss: 1.9526 - val_accuracy: 0.4785\n",
      "Epoch 3/15\n",
      "750/750 [==============================] - 158s 211ms/step - loss: 3.0821 - accuracy: 0.3862 - val_loss: 1.5037 - val_accuracy: 0.5833\n",
      "Epoch 4/15\n",
      "750/750 [==============================] - 158s 211ms/step - loss: 2.9254 - accuracy: 0.4292 - val_loss: 1.4556 - val_accuracy: 0.5907\n",
      "Epoch 5/15\n",
      "750/750 [==============================] - 158s 210ms/step - loss: 2.7780 - accuracy: 0.4806 - val_loss: 1.4360 - val_accuracy: 0.5962\n",
      "Epoch 6/15\n",
      "750/750 [==============================] - 157s 210ms/step - loss: 2.6806 - accuracy: 0.4972 - val_loss: 1.4192 - val_accuracy: 0.6075\n",
      "Epoch 7/15\n",
      "750/750 [==============================] - 158s 210ms/step - loss: 2.5752 - accuracy: 0.5356 - val_loss: 1.3596 - val_accuracy: 0.6165\n",
      "Epoch 8/15\n",
      "750/750 [==============================] - 157s 210ms/step - loss: 2.4897 - accuracy: 0.5725 - val_loss: 1.2279 - val_accuracy: 0.6573\n",
      "Epoch 9/15\n",
      "750/750 [==============================] - 158s 210ms/step - loss: 2.4290 - accuracy: 0.5927 - val_loss: 1.2946 - val_accuracy: 0.6503\n",
      "Epoch 10/15\n",
      "750/750 [==============================] - 158s 210ms/step - loss: 2.3408 - accuracy: 0.6119 - val_loss: 1.4434 - val_accuracy: 0.6075\n",
      "Epoch 11/15\n",
      "750/750 [==============================] - 158s 210ms/step - loss: 2.2998 - accuracy: 0.6244 - val_loss: 1.5811 - val_accuracy: 0.5787\n",
      "Epoch 12/15\n",
      "750/750 [==============================] - 158s 210ms/step - loss: 2.2357 - accuracy: 0.6463 - val_loss: 1.4107 - val_accuracy: 0.6234\n",
      "Epoch 13/15\n",
      "750/750 [==============================] - 158s 210ms/step - loss: 2.1852 - accuracy: 0.6563 - val_loss: 1.4337 - val_accuracy: 0.6195\n",
      "Epoch 14/15\n",
      "750/750 [==============================] - 158s 211ms/step - loss: 2.1565 - accuracy: 0.6691 - val_loss: 1.2130 - val_accuracy: 0.6709\n",
      "Epoch 15/15\n",
      "750/750 [==============================] - 158s 210ms/step - loss: 2.0841 - accuracy: 0.6848 - val_loss: 1.2898 - val_accuracy: 0.6595\n"
     ]
    }
   ],
   "source": [
    "resnet50_aug_cutmix, history_aug_cutmix = compile_and_fit(ds_train_aug_cutmix, ds_val)"
   ]
  },
  {
   "cell_type": "markdown",
   "id": "222641e6",
   "metadata": {},
   "source": [
    "#### 기본 + MixUp Augmentation 모델 훈련"
   ]
  },
  {
   "cell_type": "code",
   "execution_count": null,
   "id": "c32e0efd",
   "metadata": {},
   "outputs": [],
   "source": [
    "resnet50_aug_mixup, history_aug_mixup = compile_and_fit(ds_train_aug_mixup, ds_val)"
   ]
  },
  {
   "cell_type": "code",
   "execution_count": 20,
   "id": "a36d53d3",
   "metadata": {},
   "outputs": [],
   "source": [
    "import pickle\n",
    "with open(\"./history_aug_mixup.pkl\", \"rb\") as f :\n",
    "    h_mixup = pickle.load(f)"
   ]
  },
  {
   "cell_type": "code",
   "execution_count": null,
   "id": "78b9311a",
   "metadata": {},
   "outputs": [],
   "source": []
  },
  {
   "cell_type": "markdown",
   "id": "5f24184e",
   "metadata": {},
   "source": [
    "---\n",
    "## 4. 훈련 과정 시각화\n",
    "---"
   ]
  },
  {
   "cell_type": "code",
   "execution_count": 21,
   "id": "ec94bd39",
   "metadata": {},
   "outputs": [
    {
     "data": {
      "image/png": "[encoded data removed]",
      "text/plain": [
       "<Figure size 432x288 with 1 Axes>"
      ]
     },
     "metadata": {
      "needs_background": "light"
     },
     "output_type": "display_data"
    }
   ],
   "source": [
    "plt.plot(history_no_aug.history['accuracy'], 'r')\n",
    "plt.plot(history_aug.history['accuracy'], 'b')\n",
    "plt.plot(history_aug_cutmix.history['accuracy'], 'g')\n",
    "plt.plot(h_mixup['accuracy'], 'y')\n",
    "plt.title('Model accuracy')\n",
    "plt.ylabel('Accuracy')\n",
    "plt.xlabel('Epoch')\n",
    "plt.legend(['No Augmentation', 'With Augmentation', 'With CutMix', 'With MixUp'], loc='upper left')\n",
    "plt.show()"
   ]
  },
  {
   "cell_type": "code",
   "execution_count": 22,
   "id": "bc269c1b",
   "metadata": {},
   "outputs": [
    {
     "data": {
      "image/png": "[encoded data removed]",
      "text/plain": [
       "<Figure size 432x288 with 1 Axes>"
      ]
     },
     "metadata": {
      "needs_background": "light"
     },
     "output_type": "display_data"
    }
   ],
   "source": [
    "plt.plot(history_no_aug.history['val_accuracy'], 'r')\n",
    "plt.plot(history_aug.history['val_accuracy'], 'b')\n",
    "plt.plot(history_aug_cutmix.history['val_accuracy'], 'g')\n",
    "plt.plot(h_mixup['val_accuracy'], 'y')\n",
    "plt.title('Model validation accuracy')\n",
    "plt.ylabel('Accuracy')\n",
    "plt.xlabel('Epoch')\n",
    "plt.legend(['No Augmentation', 'With Augmentation', 'With CutMix', 'With MixUp'], loc='upper left')\n",
    "plt.show()"
   ]
  },
  {
   "cell_type": "code",
   "execution_count": 23,
   "id": "79e14bb0",
   "metadata": {},
   "outputs": [
    {
     "data": {
      "image/png": "[encoded data removed]",
      "text/plain": [
       "<Figure size 432x288 with 1 Axes>"
      ]
     },
     "metadata": {
      "needs_background": "light"
     },
     "output_type": "display_data"
    }
   ],
   "source": [
    "plt.plot(history_no_aug.history['loss'], 'r')\n",
    "plt.plot(history_aug.history['loss'], 'b')\n",
    "plt.plot(history_aug_cutmix.history['loss'], 'g')\n",
    "plt.plot(h_mixup['loss'], 'y')\n",
    "plt.title('Model loss')\n",
    "plt.ylabel('Loss')\n",
    "plt.xlabel('Epoch')\n",
    "plt.legend(['No Augmentation', 'With Augmentation', 'With CutMix', 'With MixUp'], loc='upper left')\n",
    "plt.show()"
   ]
  },
  {
   "cell_type": "code",
   "execution_count": 24,
   "id": "ca95b535",
   "metadata": {},
   "outputs": [
    {
     "data": {
      "image/png": "[encoded data removed]",
      "text/plain": [
       "<Figure size 432x288 with 1 Axes>"
      ]
     },
     "metadata": {
      "needs_background": "light"
     },
     "output_type": "display_data"
    }
   ],
   "source": [
    "plt.plot(history_no_aug.history['val_loss'], 'r')\n",
    "plt.plot(history_aug.history['val_loss'], 'b')\n",
    "plt.plot(history_aug_cutmix.history['val_loss'], 'g')\n",
    "plt.plot(h_mixup['val_loss'], 'y')\n",
    "plt.title('Model validation loss')\n",
    "plt.ylabel('Loss')\n",
    "plt.xlabel('Epoch')\n",
    "plt.legend(['No Augmentation', 'With Augmentation', 'With CutMix', 'With MixUp'], loc='upper left')\n",
    "plt.show()"
   ]
  },
  {
   "cell_type": "code",
   "execution_count": null,
   "id": "222c54b8",
   "metadata": {},
   "outputs": [],
   "source": []
  }
 ],
 "metadata": {
  "kernelspec": {
   "display_name": "Python 3 (ipykernel)",
   "language": "python",
   "name": "python3"
  },
  "language_info": {
   "codemirror_mode": {
    "name": "ipython",
    "version": 3
   },
   "file_extension": ".py",
   "mimetype": "text/x-python",
   "name": "python",
   "nbconvert_exporter": "python",
   "pygments_lexer": "ipython3",
   "version": "3.9.7"
  }
 },
 "nbformat": 4,
 "nbformat_minor": 5
}
